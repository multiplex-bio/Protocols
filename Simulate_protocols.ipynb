{
 "cells": [
  {
   "cell_type": "code",
   "execution_count": 1,
   "id": "321e825d-eaa7-42a9-ad0e-fdd4716a5e38",
   "metadata": {},
   "outputs": [],
   "source": [
    "import os\n",
    "from opentrons.simulate import simulate, format_runlog"
   ]
  },
  {
   "cell_type": "code",
   "execution_count": 2,
   "id": "5e4a137f-1a5b-4a07-b110-8db49d360aed",
   "metadata": {},
   "outputs": [
    {
     "data": {
      "text/plain": [
       "'C:\\\\Users\\\\bvald\\\\Documents\\\\OP\\\\PCR.py'"
      ]
     },
     "execution_count": 2,
     "metadata": {},
     "output_type": "execute_result"
    }
   ],
   "source": [
    "path_to_file = os.getcwd()+'\\\\PCR.py' #Change after the \\\\ to the name of the file OR change the entire path\n",
    "path_to_file"
   ]
  },
  {
   "cell_type": "code",
   "execution_count": 15,
   "id": "8a422449-9f32-4ae1-b56d-0f685cadc27c",
   "metadata": {},
   "outputs": [],
   "source": [
    "protocol_file = open(path_to_file)"
   ]
  },
  {
   "cell_type": "code",
   "execution_count": 16,
   "id": "46804e75-203e-4d15-b203-fdbaac03a24e",
   "metadata": {},
   "outputs": [
    {
     "ename": "ExceptionInProtocolError",
     "evalue": "ValueError [line 20]: Deck location 8 already  has an item: <opentrons.protocols.context.protocol_api.labware.LabwareImplementation object at 0x0000025F42AA8730>",
     "output_type": "error",
     "traceback": [
      "\u001b[1;31m---------------------------------------------------------------------------\u001b[0m",
      "\u001b[1;31mValueError\u001b[0m                                Traceback (most recent call last)",
      "\u001b[1;32mc:\\users\\bvald\\appdata\\local\\programs\\python\\python39\\lib\\site-packages\\opentrons\\protocols\\execution\\execute_python.py\u001b[0m in \u001b[0;36mrun_python\u001b[1;34m(proto, context)\u001b[0m\n\u001b[0;32m     60\u001b[0m     \u001b[1;32mtry\u001b[0m\u001b[1;33m:\u001b[0m\u001b[1;33m\u001b[0m\u001b[1;33m\u001b[0m\u001b[0m\n\u001b[1;32m---> 61\u001b[1;33m         \u001b[0mexec\u001b[0m\u001b[1;33m(\u001b[0m\u001b[1;34m'run(__context)'\u001b[0m\u001b[1;33m,\u001b[0m \u001b[0mnew_globs\u001b[0m\u001b[1;33m)\u001b[0m\u001b[1;33m\u001b[0m\u001b[1;33m\u001b[0m\u001b[0m\n\u001b[0m\u001b[0;32m     62\u001b[0m     \u001b[1;32mexcept\u001b[0m \u001b[1;33m(\u001b[0m\u001b[0mSmoothieAlarm\u001b[0m\u001b[1;33m,\u001b[0m \u001b[0masyncio\u001b[0m\u001b[1;33m.\u001b[0m\u001b[0mCancelledError\u001b[0m\u001b[1;33m,\u001b[0m \u001b[0mExecutionCancelledError\u001b[0m\u001b[1;33m)\u001b[0m\u001b[1;33m:\u001b[0m\u001b[1;33m\u001b[0m\u001b[1;33m\u001b[0m\u001b[0m\n",
      "\u001b[1;32m<string>\u001b[0m in \u001b[0;36m<module>\u001b[1;34m\u001b[0m\n",
      "\u001b[1;32m<protocol>\u001b[0m in \u001b[0;36mrun\u001b[1;34m(protocol)\u001b[0m\n",
      "\u001b[1;32mc:\\users\\bvald\\appdata\\local\\programs\\python\\python39\\lib\\site-packages\\opentrons\\protocols\\api_support\\util.py\u001b[0m in \u001b[0;36m_check_version_wrapper\u001b[1;34m(*args, **kwargs)\u001b[0m\n\u001b[0;32m    393\u001b[0m                     'use this functionality.')\n\u001b[1;32m--> 394\u001b[1;33m             \u001b[1;32mreturn\u001b[0m \u001b[0mdecorated_obj\u001b[0m\u001b[1;33m(\u001b[0m\u001b[1;33m*\u001b[0m\u001b[0margs\u001b[0m\u001b[1;33m,\u001b[0m \u001b[1;33m**\u001b[0m\u001b[0mkwargs\u001b[0m\u001b[1;33m)\u001b[0m\u001b[1;33m\u001b[0m\u001b[1;33m\u001b[0m\u001b[0m\n\u001b[0m\u001b[0;32m    395\u001b[0m \u001b[1;33m\u001b[0m\u001b[0m\n",
      "\u001b[1;32mc:\\users\\bvald\\appdata\\local\\programs\\python\\python39\\lib\\site-packages\\opentrons\\protocol_api\\protocol_context.py\u001b[0m in \u001b[0;36mload_labware\u001b[1;34m(self, load_name, location, label, namespace, version)\u001b[0m\n\u001b[0;32m    359\u001b[0m         \"\"\"\n\u001b[1;32m--> 360\u001b[1;33m         implementation = self._implementation.load_labware(\n\u001b[0m\u001b[0;32m    361\u001b[0m             \u001b[0mload_name\u001b[0m\u001b[1;33m=\u001b[0m\u001b[0mload_name\u001b[0m\u001b[1;33m,\u001b[0m\u001b[1;33m\u001b[0m\u001b[1;33m\u001b[0m\u001b[0m\n",
      "\u001b[1;32mc:\\users\\bvald\\appdata\\local\\programs\\python\\python39\\lib\\site-packages\\opentrons\\protocols\\context\\protocol_api\\protocol_context.py\u001b[0m in \u001b[0;36mload_labware\u001b[1;34m(self, load_name, location, label, namespace, version)\u001b[0m\n\u001b[0;32m    172\u001b[0m             extra_defs=self._extra_labware)\n\u001b[1;32m--> 173\u001b[1;33m         return self.load_labware_from_definition(\n\u001b[0m\u001b[0;32m    174\u001b[0m             labware_def, location, label)\n",
      "\u001b[1;32mc:\\users\\bvald\\appdata\\local\\programs\\python\\python39\\lib\\site-packages\\opentrons\\protocols\\context\\protocol_api\\protocol_context.py\u001b[0m in \u001b[0;36mload_labware_from_definition\u001b[1;34m(self, labware_def, location, label)\u001b[0m\n\u001b[0;32m    157\u001b[0m         \u001b[0mlabware_obj\u001b[0m \u001b[1;33m=\u001b[0m \u001b[0mload_from_definition\u001b[0m\u001b[1;33m(\u001b[0m\u001b[0mlabware_def\u001b[0m\u001b[1;33m,\u001b[0m \u001b[0mparent\u001b[0m\u001b[1;33m,\u001b[0m \u001b[0mlabel\u001b[0m\u001b[1;33m)\u001b[0m\u001b[1;33m\u001b[0m\u001b[1;33m\u001b[0m\u001b[0m\n\u001b[1;32m--> 158\u001b[1;33m         \u001b[0mself\u001b[0m\u001b[1;33m.\u001b[0m\u001b[0m_deck_layout\u001b[0m\u001b[1;33m[\u001b[0m\u001b[0mlocation\u001b[0m\u001b[1;33m]\u001b[0m \u001b[1;33m=\u001b[0m \u001b[0mlabware_obj\u001b[0m\u001b[1;33m\u001b[0m\u001b[1;33m\u001b[0m\u001b[0m\n\u001b[0m\u001b[0;32m    159\u001b[0m         \u001b[1;32mreturn\u001b[0m \u001b[0mlabware_obj\u001b[0m\u001b[1;33m\u001b[0m\u001b[1;33m\u001b[0m\u001b[0m\n",
      "\u001b[1;32mc:\\users\\bvald\\appdata\\local\\programs\\python\\python39\\lib\\site-packages\\opentrons\\protocols\\geometry\\deck.py\u001b[0m in \u001b[0;36m__setitem__\u001b[1;34m(self, key, val)\u001b[0m\n\u001b[0;32m    106\u001b[0m             \u001b[1;32melse\u001b[0m\u001b[1;33m:\u001b[0m\u001b[1;33m\u001b[0m\u001b[1;33m\u001b[0m\u001b[0m\n\u001b[1;32m--> 107\u001b[1;33m                 raise ValueError(f'Deck location {key} already'\n\u001b[0m\u001b[0;32m    108\u001b[0m                                  f'  has an item: {self.data[slot_key_int]}')\n",
      "\u001b[1;31mValueError\u001b[0m: Deck location 8 already  has an item: <opentrons.protocols.context.protocol_api.labware.LabwareImplementation object at 0x0000025F42AA8730>",
      "\nThe above exception was the direct cause of the following exception:\n",
      "\u001b[1;31mExceptionInProtocolError\u001b[0m                  Traceback (most recent call last)",
      "\u001b[1;32m~\\AppData\\Local\\Temp/ipykernel_3200/3941137527.py\u001b[0m in \u001b[0;36m<module>\u001b[1;34m\u001b[0m\n\u001b[1;32m----> 1\u001b[1;33m \u001b[0mrunlog\u001b[0m\u001b[1;33m,\u001b[0m \u001b[0m_bundle\u001b[0m \u001b[1;33m=\u001b[0m \u001b[0msimulate\u001b[0m\u001b[1;33m(\u001b[0m\u001b[0mprotocol_file\u001b[0m\u001b[1;33m)\u001b[0m\u001b[1;33m\u001b[0m\u001b[1;33m\u001b[0m\u001b[0m\n\u001b[0m\u001b[0;32m      2\u001b[0m \u001b[0mprint\u001b[0m\u001b[1;33m(\u001b[0m\u001b[0mformat_runlog\u001b[0m\u001b[1;33m(\u001b[0m\u001b[0mrunlog\u001b[0m\u001b[1;33m)\u001b[0m\u001b[1;33m)\u001b[0m\u001b[1;33m\u001b[0m\u001b[1;33m\u001b[0m\u001b[0m\n",
      "\u001b[1;32mc:\\users\\bvald\\appdata\\local\\programs\\python\\python39\\lib\\site-packages\\opentrons\\simulate.py\u001b[0m in \u001b[0;36msimulate\u001b[1;34m(protocol_file, file_name, custom_labware_paths, custom_data_paths, propagate_logs, hardware_simulator_file_path, log_level)\u001b[0m\n\u001b[0;32m    353\u001b[0m                                  broker)\n\u001b[0;32m    354\u001b[0m         \u001b[1;32mtry\u001b[0m\u001b[1;33m:\u001b[0m\u001b[1;33m\u001b[0m\u001b[1;33m\u001b[0m\u001b[0m\n\u001b[1;32m--> 355\u001b[1;33m             \u001b[0mexecute\u001b[0m\u001b[1;33m.\u001b[0m\u001b[0mrun_protocol\u001b[0m\u001b[1;33m(\u001b[0m\u001b[0mprotocol\u001b[0m\u001b[1;33m,\u001b[0m \u001b[0mcontext\u001b[0m\u001b[1;33m)\u001b[0m\u001b[1;33m\u001b[0m\u001b[1;33m\u001b[0m\u001b[0m\n\u001b[0m\u001b[0;32m    356\u001b[0m             \u001b[1;32mif\u001b[0m \u001b[0misinstance\u001b[0m\u001b[1;33m(\u001b[0m\u001b[0mprotocol\u001b[0m\u001b[1;33m,\u001b[0m \u001b[0mPythonProtocol\u001b[0m\u001b[1;33m)\u001b[0m\u001b[0;31m\\\u001b[0m\u001b[1;33m\u001b[0m\u001b[1;33m\u001b[0m\u001b[0m\n\u001b[0;32m    357\u001b[0m                \u001b[1;32mand\u001b[0m \u001b[0mprotocol\u001b[0m\u001b[1;33m.\u001b[0m\u001b[0mapi_level\u001b[0m \u001b[1;33m>=\u001b[0m \u001b[0mAPIVersion\u001b[0m\u001b[1;33m(\u001b[0m\u001b[1;36m2\u001b[0m\u001b[1;33m,\u001b[0m \u001b[1;36m0\u001b[0m\u001b[1;33m)\u001b[0m\u001b[0;31m\\\u001b[0m\u001b[1;33m\u001b[0m\u001b[1;33m\u001b[0m\u001b[0m\n",
      "\u001b[1;32mc:\\users\\bvald\\appdata\\local\\programs\\python\\python39\\lib\\site-packages\\opentrons\\protocols\\execution\\execute.py\u001b[0m in \u001b[0;36mrun_protocol\u001b[1;34m(protocol, context)\u001b[0m\n\u001b[0;32m     23\u001b[0m     \u001b[1;32mif\u001b[0m \u001b[0misinstance\u001b[0m\u001b[1;33m(\u001b[0m\u001b[0mprotocol\u001b[0m\u001b[1;33m,\u001b[0m \u001b[0mPythonProtocol\u001b[0m\u001b[1;33m)\u001b[0m\u001b[1;33m:\u001b[0m\u001b[1;33m\u001b[0m\u001b[1;33m\u001b[0m\u001b[0m\n\u001b[0;32m     24\u001b[0m         \u001b[1;32mif\u001b[0m \u001b[0mprotocol\u001b[0m\u001b[1;33m.\u001b[0m\u001b[0mapi_level\u001b[0m \u001b[1;33m>=\u001b[0m \u001b[0mAPIVersion\u001b[0m\u001b[1;33m(\u001b[0m\u001b[1;36m2\u001b[0m\u001b[1;33m,\u001b[0m \u001b[1;36m0\u001b[0m\u001b[1;33m)\u001b[0m\u001b[1;33m:\u001b[0m\u001b[1;33m\u001b[0m\u001b[1;33m\u001b[0m\u001b[0m\n\u001b[1;32m---> 25\u001b[1;33m             \u001b[0mrun_python\u001b[0m\u001b[1;33m(\u001b[0m\u001b[0mprotocol\u001b[0m\u001b[1;33m,\u001b[0m \u001b[0mcontext\u001b[0m\u001b[1;33m)\u001b[0m\u001b[1;33m\u001b[0m\u001b[1;33m\u001b[0m\u001b[0m\n\u001b[0m\u001b[0;32m     26\u001b[0m         \u001b[1;32melse\u001b[0m\u001b[1;33m:\u001b[0m\u001b[1;33m\u001b[0m\u001b[1;33m\u001b[0m\u001b[0m\n\u001b[0;32m     27\u001b[0m             raise RuntimeError(\n",
      "\u001b[1;32mc:\\users\\bvald\\appdata\\local\\programs\\python\\python39\\lib\\site-packages\\opentrons\\protocols\\execution\\execute_python.py\u001b[0m in \u001b[0;36mrun_python\u001b[1;34m(proto, context)\u001b[0m\n\u001b[0;32m     70\u001b[0m             \u001b[1;31m# No pretty names, just raise it\u001b[0m\u001b[1;33m\u001b[0m\u001b[1;33m\u001b[0m\u001b[1;33m\u001b[0m\u001b[0m\n\u001b[0;32m     71\u001b[0m             \u001b[1;32mraise\u001b[0m \u001b[0me\u001b[0m\u001b[1;33m\u001b[0m\u001b[1;33m\u001b[0m\u001b[0m\n\u001b[1;32m---> 72\u001b[1;33m         \u001b[1;32mraise\u001b[0m \u001b[0mExceptionInProtocolError\u001b[0m\u001b[1;33m(\u001b[0m\u001b[0me\u001b[0m\u001b[1;33m,\u001b[0m \u001b[0mtb\u001b[0m\u001b[1;33m,\u001b[0m \u001b[0mstr\u001b[0m\u001b[1;33m(\u001b[0m\u001b[0me\u001b[0m\u001b[1;33m)\u001b[0m\u001b[1;33m,\u001b[0m \u001b[0mframe\u001b[0m\u001b[1;33m.\u001b[0m\u001b[0mlineno\u001b[0m\u001b[1;33m)\u001b[0m \u001b[1;32mfrom\u001b[0m \u001b[0me\u001b[0m\u001b[1;33m\u001b[0m\u001b[1;33m\u001b[0m\u001b[0m\n\u001b[0m",
      "\u001b[1;31mExceptionInProtocolError\u001b[0m: ValueError [line 20]: Deck location 8 already  has an item: <opentrons.protocols.context.protocol_api.labware.LabwareImplementation object at 0x0000025F42AA8730>"
     ]
    }
   ],
   "source": [
    "runlog, _bundle = simulate(protocol_file)\n",
    "print(format_runlog(runlog))"
   ]
  },
  {
   "cell_type": "code",
   "execution_count": 30,
   "id": "5feea1f2-ad87-46af-8fff-2c37e252131e",
   "metadata": {},
   "outputs": [
    {
     "name": "stdout",
     "output_type": "stream",
     "text": [
      "1\n",
      "3\n",
      "5\n"
     ]
    }
   ],
   "source": [
    "for i in range(5):\n",
    "    if (i+1) % 2 != 0:\n",
    "        print(i+1)"
   ]
  },
  {
   "cell_type": "code",
   "execution_count": 42,
   "id": "3cab3b79-4936-4fc1-b26d-33209996fc5f",
   "metadata": {},
   "outputs": [
    {
     "name": "stdout",
     "output_type": "stream",
     "text": [
      "3\n",
      "4\n"
     ]
    }
   ],
   "source": [
    "for i in range(3,5):\n",
    "    print(i)\n",
    "    #p20.dispense(CVA, output['A'+str(i)])"
   ]
  },
  {
   "cell_type": "code",
   "execution_count": null,
   "id": "a50a0010-61fc-4e4a-818e-7fd70a8745eb",
   "metadata": {},
   "outputs": [],
   "source": []
  }
 ],
 "metadata": {
  "kernelspec": {
   "display_name": "Python 3 (ipykernel)",
   "language": "python",
   "name": "python3"
  },
  "language_info": {
   "codemirror_mode": {
    "name": "ipython",
    "version": 3
   },
   "file_extension": ".py",
   "mimetype": "text/x-python",
   "name": "python",
   "nbconvert_exporter": "python",
   "pygments_lexer": "ipython3",
   "version": "3.9.6"
  }
 },
 "nbformat": 4,
 "nbformat_minor": 5
}
